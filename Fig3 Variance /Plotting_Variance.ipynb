{
 "cells": [
  {
   "cell_type": "code",
   "execution_count": 1,
   "metadata": {},
   "outputs": [],
   "source": [
    "import matplotlib.pyplot as plt\n",
    "import numpy as np"
   ]
  },
  {
   "cell_type": "markdown",
   "metadata": {},
   "source": [
    "## Plotting script for Fig 3"
   ]
  },
  {
   "cell_type": "code",
   "execution_count": 2,
   "metadata": {},
   "outputs": [
    {
     "data": {
      "image/png": "[encoded data removed]",
      "text/plain": [
       "<Figure size 340.39x210.373 with 1 Axes>"
      ]
     },
     "metadata": {},
     "output_type": "display_data"
    }
   ],
   "source": [
    "import matplotlib.pyplot as plt\n",
    "import seaborn as sns\n",
    "import numpy as np\n",
    "import matplotlib\n",
    "matplotlib.rcParams.update(matplotlib.rcParamsDefault)\n",
    "\n",
    "# Load data\n",
    "qaoa_var_arr = np.load(\"qaoa_var_arr.np.npy\")\n",
    "sym_var_arr = np.load(\"sym_var_arr.np.npy\")\n",
    "\n",
    "# Rerunning with correct z=Z1\n",
    "x_axis = [4, 6, 8, 10, 12]\n",
    "\n",
    "# Setting the seaborn style\n",
    "#sns.set(style=\"whitegrid\")\n",
    "\n",
    "# Custom color palette\n",
    "palette = [\"#F72585\", \"#7209B7\", \"#3A0CA3\", \"#4361EE\", \"#4CC9F0\"]\n",
    "sns.set_palette(palette)\n",
    "\n",
    "# Set LaTeX for text rendering\n",
    "#plt.rc('text', usetex=True)\n",
    "#plt.rc('font', family='Arial')\n",
    "\n",
    "# Adjust the figure size for a standard revtex column\n",
    "fig_width_pt = 246.0  # Get this from LaTeX using \\showthe\\columnwidth\n",
    "inches_per_pt = 1.0 / 72.27  # Convert pt to inches\n",
    "golden_mean = (np.sqrt(5) - 1.0) / 2.0  # Aesthetic ratio\n",
    "fig_width = fig_width_pt * inches_per_pt  # Width in inches\n",
    "fig_height = fig_width * golden_mean  # Height in inches\n",
    "fig_size = [fig_width, fig_height]\n",
    "\n",
    "# Update the matplotlib parameters\n",
    "plt.rcParams.update({\n",
    "    \"figure.figsize\": fig_size,\n",
    "    \"axes.labelsize\": 10,\n",
    "    \"font.size\": 10,\n",
    "    \"legend.fontsize\": 8,\n",
    "    \"xtick.labelsize\": 8,\n",
    "    \"ytick.labelsize\": 8,\n",
    "    #\"text.usetex\": True,\n",
    "    #\"font.family\": \"Arial\",\n",
    "})\n",
    "\n",
    "# Create the plot\n",
    "fig, ax = plt.subplots()\n",
    "ax.semilogy(x_axis, sym_var_arr[:-2], label='Symmetric', marker=\".\", markersize=10,linewidth = 2, color=\"#F72585\")\n",
    "ax.semilogy(x_axis, qaoa_var_arr[:-2], label='Non-symmetric', marker=\"x\", markersize=6,linewidth = 2, linestyle=\"dotted\", color=\"#3A0CA3\")\n",
    "\n",
    "# Label the axes\n",
    "ax.set_xlabel(r'Number of qubits')\n",
    "ax.set_ylabel(r'Var$ [\\partial E]$',usetex = True)\n",
    "\n",
    "# Add grid, legend, and save the plot\n",
    "#ax.yaxis.set_major_locator(plt.MaxNLocator(integer=False, prune=None, nbins=5))\n",
    "\n",
    "#ax.grid(True)\n",
    "ax.legend()\n",
    "#ax.spines[['right', 'top']].set_visible(False)\n",
    "plt.tight_layout()\n",
    "plt.savefig(\"Variance.pdf\")\n",
    "plt.show()\n"
   ]
  },
  {
   "cell_type": "code",
   "execution_count": null,
   "metadata": {},
   "outputs": [],
   "source": []
  }
 ],
 "metadata": {
  "kernelspec": {
   "display_name": "pennylane_env",
   "language": "python",
   "name": "python3"
  },
  "language_info": {
   "codemirror_mode": {
    "name": "ipython",
    "version": 3
   },
   "file_extension": ".py",
   "mimetype": "text/x-python",
   "name": "python",
   "nbconvert_exporter": "python",
   "pygments_lexer": "ipython3",
   "version": "3.10.0"
  },
  "orig_nbformat": 4
 },
 "nbformat": 4,
 "nbformat_minor": 2
}
